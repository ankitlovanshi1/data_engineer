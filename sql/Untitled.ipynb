{
 "cells": [
  {
   "cell_type": "code",
   "execution_count": 2,
   "id": "7b220377-93d3-4341-ba8a-2b79860db0b4",
   "metadata": {},
   "outputs": [
    {
     "data": {
      "text/html": [
       "<pre style=\"white-space:pre;overflow-x:auto;line-height:normal;font-family:Menlo,'DejaVu Sans Mono',consolas,'Courier New',monospace\"><span style=\"color: #808000; text-decoration-color: #808000; font-weight: bold\">/tmp/ipykernel_68729/366907212.py:</span><span style=\"color: #808000; text-decoration-color: #808000; font-weight: bold\">3</span><span style=\"color: #808000; text-decoration-color: #808000; font-weight: bold\"> DeprecationWarning</span><span style=\"color: #808000; text-decoration-color: #808000\">: The `airflow.operators.python_operator.PythonOperator` class is deprecated. Please use `</span><span style=\"color: #808000; text-decoration-color: #808000\">'airflow.operators.python.PythonOperator'</span><span style=\"color: #808000; text-decoration-color: #808000\">`.</span>\n",
       "</pre>\n"
      ],
      "text/plain": [
       "\u001b[1;33m/tmp/ipykernel_68729/\u001b[0m\u001b[1;33m366907212.py\u001b[0m\u001b[1;33m:\u001b[0m\u001b[1;33m3\u001b[0m\u001b[1;33m DeprecationWarning\u001b[0m\u001b[33m: The `airflow.operators.python_operator.PythonOperator` class is deprecated. Please use `\u001b[0m\u001b[33m'airflow.operators.python.PythonOperator'\u001b[0m\u001b[33m`.\u001b[0m\n"
      ]
     },
     "metadata": {},
     "output_type": "display_data"
    },
    {
     "data": {
      "text/html": [
       "<pre style=\"white-space:pre;overflow-x:auto;line-height:normal;font-family:Menlo,'DejaVu Sans Mono',consolas,'Courier New',monospace\"><span style=\"color: #808000; text-decoration-color: #808000; font-weight: bold\">/tmp/ipykernel_68729/366907212.py:</span><span style=\"color: #808000; text-decoration-color: #808000; font-weight: bold\">4</span><span style=\"color: #808000; text-decoration-color: #808000; font-weight: bold\"> DeprecationWarning</span><span style=\"color: #808000; text-decoration-color: #808000\">: The `airflow.operators.dummy_operator.DummyOperator` class is deprecated. Please use `</span><span style=\"color: #808000; text-decoration-color: #808000\">'airflow.operators.empty.EmptyOperator'</span><span style=\"color: #808000; text-decoration-color: #808000\">`.</span>\n",
       "</pre>\n"
      ],
      "text/plain": [
       "\u001b[1;33m/tmp/ipykernel_68729/\u001b[0m\u001b[1;33m366907212.py\u001b[0m\u001b[1;33m:\u001b[0m\u001b[1;33m4\u001b[0m\u001b[1;33m DeprecationWarning\u001b[0m\u001b[33m: The `airflow.operators.dummy_operator.DummyOperator` class is deprecated. Please use `\u001b[0m\u001b[33m'airflow.operators.empty.EmptyOperator'\u001b[0m\u001b[33m`.\u001b[0m\n"
      ]
     },
     "metadata": {},
     "output_type": "display_data"
    },
    {
     "data": {
      "text/html": [
       "<pre style=\"white-space:pre;overflow-x:auto;line-height:normal;font-family:Menlo,'DejaVu Sans Mono',consolas,'Courier New',monospace\"><span style=\"color: #808000; text-decoration-color: #808000; font-weight: bold\">/tmp/ipykernel_68729/366907212.py:</span><span style=\"color: #808000; text-decoration-color: #808000; font-weight: bold\">27</span><span style=\"color: #808000; text-decoration-color: #808000; font-weight: bold\"> RemovedInAirflow3Warning</span><span style=\"color: #808000; text-decoration-color: #808000\">: Function `days_ago` is deprecated and will be removed in Airflow </span><span style=\"color: #808000; text-decoration-color: #808000; font-weight: bold\">3.0</span><span style=\"color: #808000; text-decoration-color: #808000\">. You can achieve equivalent behavior with `</span><span style=\"color: #808000; text-decoration-color: #808000; font-weight: bold\">pendulum.today(</span><span style=\"color: #808000; text-decoration-color: #808000\">'UTC'</span><span style=\"color: #808000; text-decoration-color: #808000; font-weight: bold\">).add(</span><span style=\"color: #808000; text-decoration-color: #808000\">days</span><span style=\"color: #808000; text-decoration-color: #808000\">=-N, ...</span><span style=\"color: #808000; text-decoration-color: #808000; font-weight: bold\">)</span><span style=\"color: #808000; text-decoration-color: #808000\">`</span>\n",
       "</pre>\n"
      ],
      "text/plain": [
       "\u001b[1;33m/tmp/ipykernel_68729/\u001b[0m\u001b[1;33m366907212.py\u001b[0m\u001b[1;33m:\u001b[0m\u001b[1;33m27\u001b[0m\u001b[1;33m RemovedInAirflow3Warning\u001b[0m\u001b[33m: Function `days_ago` is deprecated and will be removed in Airflow \u001b[0m\u001b[1;33m3.0\u001b[0m\u001b[33m. You can achieve equivalent behavior with `\u001b[0m\u001b[1;33mpendulum.today\u001b[0m\u001b[1;33m(\u001b[0m\u001b[33m'UTC'\u001b[0m\u001b[1;33m)\u001b[0m\u001b[1;33m.add\u001b[0m\u001b[1;33m(\u001b[0m\u001b[33mdays\u001b[0m\u001b[33m=-N, \u001b[0m\u001b[33m...\u001b[0m\u001b[1;33m)\u001b[0m\u001b[33m`\u001b[0m\n"
      ]
     },
     "metadata": {},
     "output_type": "display_data"
    },
    {
     "data": {
      "text/html": [
       "<pre style=\"white-space:pre;overflow-x:auto;line-height:normal;font-family:Menlo,'DejaVu Sans Mono',consolas,'Courier New',monospace\"><span style=\"color: #808000; text-decoration-color: #808000; font-weight: bold\">/tmp/ipykernel_68729/366907212.py:</span><span style=\"color: #808000; text-decoration-color: #808000; font-weight: bold\">22</span><span style=\"color: #808000; text-decoration-color: #808000; font-weight: bold\"> RemovedInAirflow3Warning</span><span style=\"color: #808000; text-decoration-color: #808000\">: Param `schedule_interval` is deprecated and will be removed in a future release. Please use `schedule` instead.</span>\n",
       "</pre>\n"
      ],
      "text/plain": [
       "\u001b[1;33m/tmp/ipykernel_68729/\u001b[0m\u001b[1;33m366907212.py\u001b[0m\u001b[1;33m:\u001b[0m\u001b[1;33m22\u001b[0m\u001b[1;33m RemovedInAirflow3Warning\u001b[0m\u001b[33m: Param `schedule_interval` is deprecated and will be removed in a future release. Please use `schedule` instead.\u001b[0m\n"
      ]
     },
     "metadata": {},
     "output_type": "display_data"
    },
    {
     "data": {
      "text/plain": [
       "<Task(EmptyOperator): end>"
      ]
     },
     "execution_count": 2,
     "metadata": {},
     "output_type": "execute_result"
    }
   ],
   "source": [
    "from datetime import timedelta  # Import timedelta\n",
    "from airflow import DAG\n",
    "from airflow.operators.python_operator import PythonOperator\n",
    "from airflow.operators.dummy_operator import DummyOperator\n",
    "from airflow.utils.dates import days_ago\n",
    "\n",
    "def extract_data():\n",
    "    print(\"Extracting data...\")\n",
    "\n",
    "def transform_data():\n",
    "    print(\"Transforming data...\")\n",
    "\n",
    "def load_data():\n",
    "    print(\"Loading data...\")\n",
    "\n",
    "default_args = {\n",
    "    'owner': 'airflow',\n",
    "    'retries': 1,\n",
    "    'retry_delay': timedelta(minutes=5),  # Use timedelta here\n",
    "}\n",
    "\n",
    "dag = DAG(\n",
    "    'data_pipeline',\n",
    "    default_args=default_args,\n",
    "    description='A simple data pipeline',\n",
    "    schedule_interval='@daily',\n",
    "    start_date=days_ago(1),\n",
    ")\n",
    "\n",
    "start = DummyOperator(task_id='start', dag=dag)\n",
    "extract = PythonOperator(task_id='extract', python_callable=extract_data, dag=dag)\n",
    "transform = PythonOperator(task_id='transform', python_callable=transform_data, dag=dag)\n",
    "load = PythonOperator(task_id='load', python_callable=load_data, dag=dag)\n",
    "end = DummyOperator(task_id='end', dag=dag)\n",
    "\n",
    "start >> extract >> transform >> load >> end\n"
   ]
  },
  {
   "cell_type": "code",
   "execution_count": 4,
   "id": "d30b5a2f-6dc2-42e3-98f7-e3f0ad8b66d3",
   "metadata": {},
   "outputs": [
    {
     "ename": "IndentationError",
     "evalue": "expected an indented block after 'with' statement on line 1 (3790201074.py, line 7)",
     "output_type": "error",
     "traceback": [
      "\u001b[0;36m  Cell \u001b[0;32mIn[4], line 7\u001b[0;36m\u001b[0m\n\u001b[0;31m    taskA = DummyOperator(task_id = 'start', dag=dag)\u001b[0m\n\u001b[0m    ^\u001b[0m\n\u001b[0;31mIndentationError\u001b[0m\u001b[0;31m:\u001b[0m expected an indented block after 'with' statement on line 1\n"
     ]
    }
   ],
   "source": [
    "with DAG(\n",
    "    dag_id = 'demo',\n",
    "    # start_date = datetime(2024,06,4),\n",
    "    schedule_interval = '@hourly',\n",
    "    catchup = False) as dag:\n",
    "\n",
    "taskA = DummyOperator(task_id = 'start', dag=dag)\n",
    "taskB = DummyOperator(task_id = 'end', dag=dag)\n",
    "\n",
    "taskA >> taskB"
   ]
  },
  {
   "cell_type": "code",
   "execution_count": null,
   "id": "b3581f07-caaf-4c33-b3bf-65cf97d4e762",
   "metadata": {},
   "outputs": [],
   "source": []
  }
 ],
 "metadata": {
  "kernelspec": {
   "display_name": "Python 3 (ipykernel)",
   "language": "python",
   "name": "python3"
  },
  "language_info": {
   "codemirror_mode": {
    "name": "ipython",
    "version": 3
   },
   "file_extension": ".py",
   "mimetype": "text/x-python",
   "name": "python",
   "nbconvert_exporter": "python",
   "pygments_lexer": "ipython3",
   "version": "3.10.12"
  }
 },
 "nbformat": 4,
 "nbformat_minor": 5
}
